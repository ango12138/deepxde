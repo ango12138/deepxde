{
  "nbformat": 4,
  "nbformat_minor": 0,
  "metadata": {
    "colab": {
      "name": "Lotka-Volterra Colab",
      "provenance": []
    },
    "kernelspec": {
      "name": "python3",
      "display_name": "Python 3"
    },
    "accelerator": "GPU"
  },
  "cells": [
    {
      "cell_type": "code",
      "metadata": {
        "id": "v9inRWqjA_aw"
      },
      "source": [
        "pip install deepxde"
      ],
      "execution_count": null,
      "outputs": []
    },
    {
      "cell_type": "code",
      "metadata": {
        "id": "OgtisP9zBSCF"
      },
      "source": [
        "#approximate upper bound of range\r\n",
        "#right bound of domain (used for scaling)\r\n",
        "\r\n",
        "ub = 200\r\n",
        "rb = 20"
      ],
      "execution_count": 2,
      "outputs": []
    },
    {
      "cell_type": "code",
      "metadata": {
        "colab": {
          "base_uri": "https://localhost:8080/",
          "height": 1000
        },
        "id": "4EVKhzoSBDlL",
        "outputId": "09c01e01-7814-4932-baff-87c5fa8c78a7"
      },
      "source": [
        "from __future__ import absolute_import\r\n",
        "from __future__ import division\r\n",
        "from __future__ import print_function\r\n",
        "import math \r\n",
        "import tensorflow as tf\r\n",
        "import numpy as np\r\n",
        "import matplotlib.pyplot as plt\r\n",
        "\r\n",
        "import deepxde as dde\r\n",
        "\r\n",
        "def ode_system(x, y):\r\n",
        "    r = y[:, 0:1]\r\n",
        "    p = y[:, 1:2]\r\n",
        "    dr_t = dde.grad.jacobian(y,x, i=0)\r\n",
        "    dp_t = dde.grad.jacobian(y,x, i=1)\r\n",
        "    return [\r\n",
        "        dr_t - 1/ub * rb* (2.* ub * r - .04 * ub * r * ub *p),\r\n",
        "        dp_t - 1/ub * rb * (.02 * r * ub * p * ub - 1.06 * p* ub)\r\n",
        "    ]\r\n",
        "\r\n",
        "def boundary(_, on_initial):\r\n",
        "    return on_initial\r\n",
        "\r\n",
        "geom = dde.geometry.TimeDomain(0., 1.)\r\n",
        "ic1 = dde.IC(geom, lambda _: np.full(1, 100/ub), boundary, component=0)\r\n",
        "ic2 = dde.IC(geom, lambda _: np.full(1, 15/ub), boundary, component=1)\r\n",
        "data = dde.data.PDE(\r\n",
        "    geom, ode_system, [ic1, ic2], 3000, 2, \"sobol\", num_test= 3000\r\n",
        ")\r\n",
        "\r\n",
        "layer_size = [1] + [64] * 6  + [2]\r\n",
        "activation = \"tanh\"\r\n",
        "initializer = \"Glorot normal\"\r\n",
        "net = dde.maps.FNN(layer_size, activation, initializer)\r\n",
        "\r\n",
        "def input_transform(t):\r\n",
        "  return tf.concat((t, tf.sin(t), tf.sin(2*t), tf.sin(3*t), tf.sin(4*t), tf.sin(5*t), tf.sin(6*t)), axis = 1)\r\n",
        "\r\n",
        "def output_transform(t, y):\r\n",
        "    y1 = y[:, 0:1]\r\n",
        "    y2 = y[:, 1:2]\r\n",
        "    \r\n",
        "    return tf.concat((y1*tf.math.tanh(t)+100/ub, y2*tf.math.tanh(t)+15/ub), axis=1)\r\n",
        "\r\n",
        "net.apply_feature_transform(input_transform)\r\n",
        "net.apply_output_transform(output_transform)\r\n",
        "\r\n",
        "es = dde.callbacks.EarlyStopping(patience = 5000)\r\n",
        "\r\n",
        "checkpointer = dde.callbacks.ModelCheckpoint(\r\n",
        "        \"model/model.ckpt\", verbose=0, save_better_only=True\r\n",
        "    )\r\n",
        "\r\n",
        "model = dde.Model(data, net)\r\n",
        "model.compile(\"adam\", lr=0.001)\r\n",
        "losshistory, train_state = model.train(epochs=50000, callbacks = [checkpointer])\r\n",
        "\r\n",
        "model.restore(\"model/model.ckpt-\" + str(train_state.best_step))\r\n",
        "model.compile('L-BFGS-B')\r\n",
        "model.train()\r\n",
        "\r\n",
        "dde.saveplot(losshistory, train_state, issave=True, isplot=True)"
      ],
      "execution_count": 26,
      "outputs": [
        {
          "output_type": "stream",
          "text": [
            "Compiling model...\n",
            "Building feed-forward neural network...\n",
            "'build' took 0.091964 s\n",
            "\n"
          ],
          "name": "stdout"
        },
        {
          "output_type": "stream",
          "text": [
            "/usr/local/lib/python3.6/dist-packages/tensorflow/python/keras/legacy_tf_layers/core.py:171: UserWarning: `tf.layers.dense` is deprecated and will be removed in a future version. Please use `tf.keras.layers.Dense` instead.\n",
            "  warnings.warn('`tf.layers.dense` is deprecated and '\n",
            "/usr/local/lib/python3.6/dist-packages/tensorflow/python/keras/engine/base_layer_v1.py:1719: UserWarning: `layer.apply` is deprecated and will be removed in a future version. Please use `layer.__call__` method instead.\n",
            "  warnings.warn('`layer.apply` is deprecated and '\n"
          ],
          "name": "stderr"
        },
        {
          "output_type": "stream",
          "text": [
            "'compile' took 1.195113 s\n",
            "\n",
            "Initializing variables...\n",
            "Training model...\n",
            "\n",
            "0         [2.44e+02, 1.42e+01, 0.00e+00, 0.00e+00]    [2.44e+02, 1.42e+01, 0.00e+00, 0.00e+00]    []  \n",
            "INFO:tensorflow:model/model.ckpt-1 is not in all_model_checkpoint_paths. Manually adding it.\n"
          ],
          "name": "stdout"
        },
        {
          "output_type": "stream",
          "text": [
            "INFO:tensorflow:model/model.ckpt-1 is not in all_model_checkpoint_paths. Manually adding it.\n"
          ],
          "name": "stderr"
        },
        {
          "output_type": "stream",
          "text": [
            "1000      [2.94e+00, 4.35e-01, 0.00e+00, 0.00e+00]    [2.99e+00, 4.37e-01, 0.00e+00, 0.00e+00]    []  \n",
            "INFO:tensorflow:model/model.ckpt-1000 is not in all_model_checkpoint_paths. Manually adding it.\n"
          ],
          "name": "stdout"
        },
        {
          "output_type": "stream",
          "text": [
            "INFO:tensorflow:model/model.ckpt-1000 is not in all_model_checkpoint_paths. Manually adding it.\n"
          ],
          "name": "stderr"
        },
        {
          "output_type": "stream",
          "text": [
            "2000      [1.83e+00, 6.32e-01, 0.00e+00, 0.00e+00]    [1.87e+00, 6.37e-01, 0.00e+00, 0.00e+00]    []  \n",
            "INFO:tensorflow:model/model.ckpt-2000 is not in all_model_checkpoint_paths. Manually adding it.\n"
          ],
          "name": "stdout"
        },
        {
          "output_type": "stream",
          "text": [
            "INFO:tensorflow:model/model.ckpt-2000 is not in all_model_checkpoint_paths. Manually adding it.\n"
          ],
          "name": "stderr"
        },
        {
          "output_type": "stream",
          "text": [
            "3000      [1.26e+00, 5.40e-01, 0.00e+00, 0.00e+00]    [1.28e+00, 5.45e-01, 0.00e+00, 0.00e+00]    []  \n",
            "INFO:tensorflow:model/model.ckpt-3000 is not in all_model_checkpoint_paths. Manually adding it.\n"
          ],
          "name": "stdout"
        },
        {
          "output_type": "stream",
          "text": [
            "INFO:tensorflow:model/model.ckpt-3000 is not in all_model_checkpoint_paths. Manually adding it.\n"
          ],
          "name": "stderr"
        },
        {
          "output_type": "stream",
          "text": [
            "4000      [1.01e+00, 3.92e-01, 0.00e+00, 0.00e+00]    [1.03e+00, 3.94e-01, 0.00e+00, 0.00e+00]    []  \n",
            "INFO:tensorflow:model/model.ckpt-4000 is not in all_model_checkpoint_paths. Manually adding it.\n"
          ],
          "name": "stdout"
        },
        {
          "output_type": "stream",
          "text": [
            "INFO:tensorflow:model/model.ckpt-4000 is not in all_model_checkpoint_paths. Manually adding it.\n"
          ],
          "name": "stderr"
        },
        {
          "output_type": "stream",
          "text": [
            "5000      [6.71e-01, 3.47e-01, 0.00e+00, 0.00e+00]    [6.88e-01, 3.51e-01, 0.00e+00, 0.00e+00]    []  \n",
            "INFO:tensorflow:model/model.ckpt-5000 is not in all_model_checkpoint_paths. Manually adding it.\n"
          ],
          "name": "stdout"
        },
        {
          "output_type": "stream",
          "text": [
            "INFO:tensorflow:model/model.ckpt-5000 is not in all_model_checkpoint_paths. Manually adding it.\n"
          ],
          "name": "stderr"
        },
        {
          "output_type": "stream",
          "text": [
            "6000      [5.05e-01, 3.16e-01, 0.00e+00, 0.00e+00]    [5.19e-01, 3.20e-01, 0.00e+00, 0.00e+00]    []  \n",
            "INFO:tensorflow:model/model.ckpt-6000 is not in all_model_checkpoint_paths. Manually adding it.\n"
          ],
          "name": "stdout"
        },
        {
          "output_type": "stream",
          "text": [
            "INFO:tensorflow:model/model.ckpt-6000 is not in all_model_checkpoint_paths. Manually adding it.\n"
          ],
          "name": "stderr"
        },
        {
          "output_type": "stream",
          "text": [
            "7000      [3.66e-01, 2.80e-01, 0.00e+00, 0.00e+00]    [3.76e-01, 2.84e-01, 0.00e+00, 0.00e+00]    []  \n",
            "INFO:tensorflow:model/model.ckpt-7000 is not in all_model_checkpoint_paths. Manually adding it.\n"
          ],
          "name": "stdout"
        },
        {
          "output_type": "stream",
          "text": [
            "INFO:tensorflow:model/model.ckpt-7000 is not in all_model_checkpoint_paths. Manually adding it.\n"
          ],
          "name": "stderr"
        },
        {
          "output_type": "stream",
          "text": [
            "8000      [2.32e-01, 2.31e-01, 0.00e+00, 0.00e+00]    [2.38e-01, 2.34e-01, 0.00e+00, 0.00e+00]    []  \n",
            "INFO:tensorflow:model/model.ckpt-8000 is not in all_model_checkpoint_paths. Manually adding it.\n"
          ],
          "name": "stdout"
        },
        {
          "output_type": "stream",
          "text": [
            "INFO:tensorflow:model/model.ckpt-8000 is not in all_model_checkpoint_paths. Manually adding it.\n"
          ],
          "name": "stderr"
        },
        {
          "output_type": "stream",
          "text": [
            "9000      [1.32e-01, 1.69e-01, 0.00e+00, 0.00e+00]    [1.35e-01, 1.71e-01, 0.00e+00, 0.00e+00]    []  \n",
            "INFO:tensorflow:model/model.ckpt-9000 is not in all_model_checkpoint_paths. Manually adding it.\n"
          ],
          "name": "stdout"
        },
        {
          "output_type": "stream",
          "text": [
            "INFO:tensorflow:model/model.ckpt-9000 is not in all_model_checkpoint_paths. Manually adding it.\n"
          ],
          "name": "stderr"
        },
        {
          "output_type": "stream",
          "text": [
            "10000     [6.69e-02, 1.22e-01, 0.00e+00, 0.00e+00]    [6.77e-02, 1.24e-01, 0.00e+00, 0.00e+00]    []  \n",
            "INFO:tensorflow:model/model.ckpt-10000 is not in all_model_checkpoint_paths. Manually adding it.\n"
          ],
          "name": "stdout"
        },
        {
          "output_type": "stream",
          "text": [
            "INFO:tensorflow:model/model.ckpt-10000 is not in all_model_checkpoint_paths. Manually adding it.\n"
          ],
          "name": "stderr"
        },
        {
          "output_type": "stream",
          "text": [
            "11000     [5.31e-02, 8.48e-02, 0.00e+00, 0.00e+00]    [5.32e-02, 8.59e-02, 0.00e+00, 0.00e+00]    []  \n",
            "INFO:tensorflow:model/model.ckpt-11000 is not in all_model_checkpoint_paths. Manually adding it.\n"
          ],
          "name": "stdout"
        },
        {
          "output_type": "stream",
          "text": [
            "INFO:tensorflow:model/model.ckpt-11000 is not in all_model_checkpoint_paths. Manually adding it.\n"
          ],
          "name": "stderr"
        },
        {
          "output_type": "stream",
          "text": [
            "12000     [3.73e-02, 6.62e-02, 0.00e+00, 0.00e+00]    [3.72e-02, 6.70e-02, 0.00e+00, 0.00e+00]    []  \n",
            "INFO:tensorflow:model/model.ckpt-12000 is not in all_model_checkpoint_paths. Manually adding it.\n"
          ],
          "name": "stdout"
        },
        {
          "output_type": "stream",
          "text": [
            "INFO:tensorflow:model/model.ckpt-12000 is not in all_model_checkpoint_paths. Manually adding it.\n"
          ],
          "name": "stderr"
        },
        {
          "output_type": "stream",
          "text": [
            "13000     [2.98e-02, 5.43e-02, 0.00e+00, 0.00e+00]    [2.97e-02, 5.50e-02, 0.00e+00, 0.00e+00]    []  \n",
            "INFO:tensorflow:model/model.ckpt-13000 is not in all_model_checkpoint_paths. Manually adding it.\n"
          ],
          "name": "stdout"
        },
        {
          "output_type": "stream",
          "text": [
            "INFO:tensorflow:model/model.ckpt-13000 is not in all_model_checkpoint_paths. Manually adding it.\n"
          ],
          "name": "stderr"
        },
        {
          "output_type": "stream",
          "text": [
            "14000     [7.53e-02, 2.24e-01, 0.00e+00, 0.00e+00]    [7.52e-02, 2.24e-01, 0.00e+00, 0.00e+00]    []  \n",
            "15000     [2.33e-02, 3.58e-02, 0.00e+00, 0.00e+00]    [2.33e-02, 3.59e-02, 0.00e+00, 0.00e+00]    []  \n",
            "INFO:tensorflow:model/model.ckpt-15000 is not in all_model_checkpoint_paths. Manually adding it.\n"
          ],
          "name": "stdout"
        },
        {
          "output_type": "stream",
          "text": [
            "INFO:tensorflow:model/model.ckpt-15000 is not in all_model_checkpoint_paths. Manually adding it.\n"
          ],
          "name": "stderr"
        },
        {
          "output_type": "stream",
          "text": [
            "16000     [4.59e-02, 2.47e-02, 0.00e+00, 0.00e+00]    [4.59e-02, 2.48e-02, 0.00e+00, 0.00e+00]    []  \n",
            "17000     [1.48e-02, 1.75e-02, 0.00e+00, 0.00e+00]    [1.47e-02, 1.75e-02, 0.00e+00, 0.00e+00]    []  \n",
            "INFO:tensorflow:model/model.ckpt-17000 is not in all_model_checkpoint_paths. Manually adding it.\n"
          ],
          "name": "stdout"
        },
        {
          "output_type": "stream",
          "text": [
            "INFO:tensorflow:model/model.ckpt-17000 is not in all_model_checkpoint_paths. Manually adding it.\n"
          ],
          "name": "stderr"
        },
        {
          "output_type": "stream",
          "text": [
            "18000     [1.33e-02, 1.20e-02, 0.00e+00, 0.00e+00]    [1.32e-02, 1.20e-02, 0.00e+00, 0.00e+00]    []  \n",
            "INFO:tensorflow:model/model.ckpt-18000 is not in all_model_checkpoint_paths. Manually adding it.\n"
          ],
          "name": "stdout"
        },
        {
          "output_type": "stream",
          "text": [
            "INFO:tensorflow:model/model.ckpt-18000 is not in all_model_checkpoint_paths. Manually adding it.\n"
          ],
          "name": "stderr"
        },
        {
          "output_type": "stream",
          "text": [
            "19000     [1.25e-02, 1.43e-02, 0.00e+00, 0.00e+00]    [1.25e-02, 1.43e-02, 0.00e+00, 0.00e+00]    []  \n",
            "20000     [1.77e-02, 2.89e-02, 0.00e+00, 0.00e+00]    [1.77e-02, 2.89e-02, 0.00e+00, 0.00e+00]    []  \n",
            "21000     [8.98e-03, 1.31e-02, 0.00e+00, 0.00e+00]    [8.97e-03, 1.31e-02, 0.00e+00, 0.00e+00]    []  \n",
            "INFO:tensorflow:model/model.ckpt-21000 is not in all_model_checkpoint_paths. Manually adding it.\n"
          ],
          "name": "stdout"
        },
        {
          "output_type": "stream",
          "text": [
            "INFO:tensorflow:model/model.ckpt-21000 is not in all_model_checkpoint_paths. Manually adding it.\n"
          ],
          "name": "stderr"
        },
        {
          "output_type": "stream",
          "text": [
            "22000     [1.33e-02, 8.50e-03, 0.00e+00, 0.00e+00]    [1.33e-02, 8.51e-03, 0.00e+00, 0.00e+00]    []  \n",
            "INFO:tensorflow:model/model.ckpt-22000 is not in all_model_checkpoint_paths. Manually adding it.\n"
          ],
          "name": "stdout"
        },
        {
          "output_type": "stream",
          "text": [
            "INFO:tensorflow:model/model.ckpt-22000 is not in all_model_checkpoint_paths. Manually adding it.\n"
          ],
          "name": "stderr"
        },
        {
          "output_type": "stream",
          "text": [
            "23000     [5.28e-03, 5.93e-03, 0.00e+00, 0.00e+00]    [5.28e-03, 5.93e-03, 0.00e+00, 0.00e+00]    []  \n",
            "INFO:tensorflow:model/model.ckpt-23000 is not in all_model_checkpoint_paths. Manually adding it.\n"
          ],
          "name": "stdout"
        },
        {
          "output_type": "stream",
          "text": [
            "INFO:tensorflow:model/model.ckpt-23000 is not in all_model_checkpoint_paths. Manually adding it.\n"
          ],
          "name": "stderr"
        },
        {
          "output_type": "stream",
          "text": [
            "24000     [1.58e-02, 6.07e-03, 0.00e+00, 0.00e+00]    [1.57e-02, 6.07e-03, 0.00e+00, 0.00e+00]    []  \n",
            "25000     [1.21e-02, 4.14e-03, 0.00e+00, 0.00e+00]    [1.21e-02, 4.14e-03, 0.00e+00, 0.00e+00]    []  \n",
            "26000     [3.27e-03, 3.65e-03, 0.00e+00, 0.00e+00]    [3.27e-03, 3.65e-03, 0.00e+00, 0.00e+00]    []  \n",
            "INFO:tensorflow:model/model.ckpt-26000 is not in all_model_checkpoint_paths. Manually adding it.\n"
          ],
          "name": "stdout"
        },
        {
          "output_type": "stream",
          "text": [
            "INFO:tensorflow:model/model.ckpt-26000 is not in all_model_checkpoint_paths. Manually adding it.\n"
          ],
          "name": "stderr"
        },
        {
          "output_type": "stream",
          "text": [
            "27000     [2.06e-02, 4.08e-02, 0.00e+00, 0.00e+00]    [2.06e-02, 4.08e-02, 0.00e+00, 0.00e+00]    []  \n",
            "28000     [1.64e-02, 9.27e-03, 0.00e+00, 0.00e+00]    [1.64e-02, 9.27e-03, 0.00e+00, 0.00e+00]    []  \n",
            "29000     [8.50e-02, 1.06e-01, 0.00e+00, 0.00e+00]    [8.51e-02, 1.06e-01, 0.00e+00, 0.00e+00]    []  \n",
            "30000     [2.95e-03, 3.17e-03, 0.00e+00, 0.00e+00]    [2.95e-03, 3.17e-03, 0.00e+00, 0.00e+00]    []  \n",
            "INFO:tensorflow:model/model.ckpt-30000 is not in all_model_checkpoint_paths. Manually adding it.\n"
          ],
          "name": "stdout"
        },
        {
          "output_type": "stream",
          "text": [
            "INFO:tensorflow:model/model.ckpt-30000 is not in all_model_checkpoint_paths. Manually adding it.\n"
          ],
          "name": "stderr"
        },
        {
          "output_type": "stream",
          "text": [
            "31000     [3.61e-03, 3.54e-03, 0.00e+00, 0.00e+00]    [3.60e-03, 3.55e-03, 0.00e+00, 0.00e+00]    []  \n",
            "32000     [2.98e-02, 1.63e-02, 0.00e+00, 0.00e+00]    [2.97e-02, 1.63e-02, 0.00e+00, 0.00e+00]    []  \n",
            "33000     [2.16e-03, 2.04e-03, 0.00e+00, 0.00e+00]    [2.16e-03, 2.04e-03, 0.00e+00, 0.00e+00]    []  \n",
            "INFO:tensorflow:model/model.ckpt-33000 is not in all_model_checkpoint_paths. Manually adding it.\n"
          ],
          "name": "stdout"
        },
        {
          "output_type": "stream",
          "text": [
            "INFO:tensorflow:model/model.ckpt-33000 is not in all_model_checkpoint_paths. Manually adding it.\n"
          ],
          "name": "stderr"
        },
        {
          "output_type": "stream",
          "text": [
            "34000     [8.06e-03, 2.70e-03, 0.00e+00, 0.00e+00]    [8.07e-03, 2.70e-03, 0.00e+00, 0.00e+00]    []  \n",
            "35000     [6.63e-02, 1.01e-02, 0.00e+00, 0.00e+00]    [6.64e-02, 1.01e-02, 0.00e+00, 0.00e+00]    []  \n",
            "36000     [2.71e-03, 4.11e-03, 0.00e+00, 0.00e+00]    [2.71e-03, 4.11e-03, 0.00e+00, 0.00e+00]    []  \n",
            "37000     [6.39e-03, 4.80e-03, 0.00e+00, 0.00e+00]    [6.40e-03, 4.79e-03, 0.00e+00, 0.00e+00]    []  \n",
            "38000     [2.38e-02, 1.74e-02, 0.00e+00, 0.00e+00]    [2.37e-02, 1.74e-02, 0.00e+00, 0.00e+00]    []  \n",
            "39000     [1.38e-03, 1.47e-03, 0.00e+00, 0.00e+00]    [1.38e-03, 1.47e-03, 0.00e+00, 0.00e+00]    []  \n",
            "INFO:tensorflow:model/model.ckpt-39000 is not in all_model_checkpoint_paths. Manually adding it.\n"
          ],
          "name": "stdout"
        },
        {
          "output_type": "stream",
          "text": [
            "INFO:tensorflow:model/model.ckpt-39000 is not in all_model_checkpoint_paths. Manually adding it.\n"
          ],
          "name": "stderr"
        },
        {
          "output_type": "stream",
          "text": [
            "40000     [1.82e-03, 1.54e-03, 0.00e+00, 0.00e+00]    [1.82e-03, 1.54e-03, 0.00e+00, 0.00e+00]    []  \n",
            "41000     [7.53e-03, 5.00e-03, 0.00e+00, 0.00e+00]    [7.52e-03, 5.00e-03, 0.00e+00, 0.00e+00]    []  \n",
            "42000     [1.03e-02, 2.94e-03, 0.00e+00, 0.00e+00]    [1.03e-02, 2.93e-03, 0.00e+00, 0.00e+00]    []  \n",
            "43000     [1.63e-03, 1.41e-03, 0.00e+00, 0.00e+00]    [1.62e-03, 1.41e-03, 0.00e+00, 0.00e+00]    []  \n",
            "44000     [1.13e-03, 1.05e-03, 0.00e+00, 0.00e+00]    [1.13e-03, 1.05e-03, 0.00e+00, 0.00e+00]    []  \n",
            "INFO:tensorflow:model/model.ckpt-44000 is not in all_model_checkpoint_paths. Manually adding it.\n"
          ],
          "name": "stdout"
        },
        {
          "output_type": "stream",
          "text": [
            "INFO:tensorflow:model/model.ckpt-44000 is not in all_model_checkpoint_paths. Manually adding it.\n"
          ],
          "name": "stderr"
        },
        {
          "output_type": "stream",
          "text": [
            "45000     [1.07e-03, 1.01e-03, 0.00e+00, 0.00e+00]    [1.07e-03, 1.01e-03, 0.00e+00, 0.00e+00]    []  \n",
            "INFO:tensorflow:model/model.ckpt-45000 is not in all_model_checkpoint_paths. Manually adding it.\n"
          ],
          "name": "stdout"
        },
        {
          "output_type": "stream",
          "text": [
            "INFO:tensorflow:model/model.ckpt-45000 is not in all_model_checkpoint_paths. Manually adding it.\n"
          ],
          "name": "stderr"
        },
        {
          "output_type": "stream",
          "text": [
            "46000     [1.34e-02, 7.37e-03, 0.00e+00, 0.00e+00]    [1.34e-02, 7.36e-03, 0.00e+00, 0.00e+00]    []  \n",
            "47000     [1.20e-03, 1.11e-03, 0.00e+00, 0.00e+00]    [1.20e-03, 1.11e-03, 0.00e+00, 0.00e+00]    []  \n",
            "48000     [1.17e-03, 1.09e-03, 0.00e+00, 0.00e+00]    [1.17e-03, 1.08e-03, 0.00e+00, 0.00e+00]    []  \n",
            "49000     [1.82e-03, 1.17e-03, 0.00e+00, 0.00e+00]    [1.82e-03, 1.16e-03, 0.00e+00, 0.00e+00]    []  \n",
            "50000     [3.64e-03, 1.70e-03, 0.00e+00, 0.00e+00]    [3.64e-03, 1.70e-03, 0.00e+00, 0.00e+00]    []  \n",
            "\n",
            "Best model at step 45000:\n",
            "  train loss: 2.08e-03\n",
            "  test loss: 2.08e-03\n",
            "  test metric: []\n",
            "\n",
            "'train' took 378.940370 s\n",
            "\n",
            "INFO:tensorflow:Restoring parameters from model/model.ckpt-45000\n"
          ],
          "name": "stdout"
        },
        {
          "output_type": "stream",
          "text": [
            "INFO:tensorflow:Restoring parameters from model/model.ckpt-45000\n"
          ],
          "name": "stderr"
        },
        {
          "output_type": "stream",
          "text": [
            "Compiling model...\n",
            "'compile' took 0.951553 s\n",
            "\n",
            "Training model...\n",
            "\n",
            "Step      Train loss                                  Test loss                                   Test metric\n",
            "50000     [1.07e-03, 1.01e-03, 0.00e+00, 0.00e+00]    [1.07e-03, 1.01e-03, 0.00e+00, 0.00e+00]    []  \n",
            "51000     [3.83e-05, 3.87e-05, 0.00e+00, 0.00e+00]                                                    \n",
            "52000     [1.34e-05, 1.05e-05, 0.00e+00, 0.00e+00]                                                    \n",
            "53000     [7.77e-06, 5.84e-06, 0.00e+00, 0.00e+00]                                                    \n",
            "54000     [4.62e-06, 4.28e-06, 0.00e+00, 0.00e+00]                                                    \n",
            "INFO:tensorflow:Optimization terminated with:\n",
            "  Message: b'CONVERGENCE: REL_REDUCTION_OF_F_<=_FACTR*EPSMCH'\n",
            "  Objective function value: 0.000008\n",
            "  Number of iterations: 4077\n",
            "  Number of functions evaluations: 4499\n"
          ],
          "name": "stdout"
        },
        {
          "output_type": "stream",
          "text": [
            "INFO:tensorflow:Optimization terminated with:\n",
            "  Message: b'CONVERGENCE: REL_REDUCTION_OF_F_<=_FACTR*EPSMCH'\n",
            "  Objective function value: 0.000008\n",
            "  Number of iterations: 4077\n",
            "  Number of functions evaluations: 4499\n"
          ],
          "name": "stderr"
        },
        {
          "output_type": "stream",
          "text": [
            "54499     [4.00e-06, 3.79e-06, 0.00e+00, 0.00e+00]    [4.04e-06, 3.79e-06, 0.00e+00, 0.00e+00]    []  \n",
            "\n",
            "Best model at step 54499:\n",
            "  train loss: 7.79e-06\n",
            "  test loss: 7.82e-06\n",
            "  test metric: []\n",
            "\n",
            "'train' took 220.453166 s\n",
            "\n",
            "Saving loss history to loss.dat ...\n",
            "Saving training data to train.dat ...\n",
            "Saving test data to test.dat ...\n"
          ],
          "name": "stdout"
        },
        {
          "output_type": "display_data",
          "data": {
            "image/png": "[encoded data removed]",
            "text/plain": [
              "<Figure size 432x288 with 1 Axes>"
            ]
          },
          "metadata": {
            "tags": [],
            "needs_background": "light"
          }
        },
        {
          "output_type": "display_data",
          "data": {
            "image/png": "[encoded data removed]",
            "text/plain": [
              "<Figure size 432x288 with 1 Axes>"
            ]
          },
          "metadata": {
            "tags": [],
            "needs_background": "light"
          }
        }
      ]
    },
    {
      "cell_type": "code",
      "metadata": {
        "colab": {
          "base_uri": "https://localhost:8080/",
          "height": 364
        },
        "id": "PaIahCF0D1mV",
        "outputId": "66f00b9d-c720-4194-858e-a0700df31cc5"
      },
      "source": [
        "from scipy import integrate\r\n",
        "import numpy as np\r\n",
        "import matplotlib.pyplot as plt\r\n",
        "\r\n",
        "def func(t,r):\r\n",
        "    x,y = r\r\n",
        "    dx_ = 1/ub * rb*(2.*ub*x - .04 * ub*x *ub*y)\r\n",
        "    fy = 1/ub * rb*(.02 * ub*x * ub*y - 1.06 * ub*y)\r\n",
        "    return fx, fy\r\n",
        "\r\n",
        "t = np.linspace(0,1,100)\r\n",
        "\r\n",
        "sol = integrate.solve_ivp(f, (0,10), (100/ub,15/ub), t_eval = t)\r\n",
        "x_true,y_true= sol.y\r\n",
        "x_true = x_true.reshape(100,1)\r\n",
        "y_true = y_true.reshape(100,1)\r\n",
        "plt.plot(t,x_true, color = \"black\", label = \"x_true\")\r\n",
        "plt.plot(t,y_true, color = \"blue\", label = \"y_true\")\r\n",
        "\r\n",
        "t = t.reshape(100, 1)\r\n",
        "sol_pred = model.predict(t)\r\n",
        "x_pred = sol_pred[:, 0:1]\r\n",
        "y_pred = sol_pred[:, 1:2]\r\n",
        "\r\n",
        "plt.xlabel('t')\r\n",
        "plt.ylabel('population')\r\n",
        "plt.plot(t, x_pred, color = \"red\", linestyle = \"dashed\", label = \"x_pred\")\r\n",
        "plt.plot(t, y_pred, color = \"orange\", linestyle = \"dashed\", label = \"y_pred\")\r\n",
        "plt.legend()\r\n",
        "plt.show()\r\n",
        "\r\n",
        "\r\n",
        "print(\"L2 relative error for x:\", dde.metrics.l2_relative_error(x_true, x_pred))\r\n",
        "print(\"L2 relative error for y:\", dde.metrics.l2_relative_error(y_true, y_pred))"
      ],
      "execution_count": 27,
      "outputs": [
        {
          "output_type": "stream",
          "text": [
            "Predicting...\n",
            "'predict' took 0.091457 s\n",
            "\n"
          ],
          "name": "stdout"
        },
        {
          "output_type": "display_data",
          "data": {
            "image/png": "[encoded data removed]",
            "text/plain": [
              "<Figure size 432x288 with 1 Axes>"
            ]
          },
          "metadata": {
            "tags": [],
            "needs_background": "light"
          }
        },
        {
          "output_type": "stream",
          "text": [
            "L2 relative error for x: 0.08116196378464366\n",
            "L2 relative error for y: 0.05519780977717557\n"
          ],
          "name": "stdout"
        }
      ]
    }
  ]
}