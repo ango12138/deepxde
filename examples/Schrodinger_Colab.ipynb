{
 "nbformat": 4,
 "nbformat_minor": 0,
 "metadata": {
  "colab": {
   "name": "Schroedinger_forward_Colab.ipynb",
   "provenance": [],
   "collapsed_sections": [],
   "authorship_tag": "ABX9TyNi/grdoNCexv8n/zB3Yxk9"
  },
  "kernelspec": {
   "name": "python3",
   "display_name": "Python 3"
  },
  "language_info": {
   "name": "python"
  },
  "accelerator": "GPU"
 },
 "cells": [
  {
   "cell_type": "markdown",
   "source": [
    "**Install deepxde**  \n",
    "Tensorflow and all other dependencies are already installed in Colab terminals"
   ],
   "metadata": {
    "id": "TLncjuFUlkce"
   }
  },
  {
   "cell_type": "code",
   "execution_count": 1,
   "metadata": {
    "colab": {
     "base_uri": "https://localhost:8080/"
    },
    "id": "dibZzRjplLH-",
    "executionInfo": {
     "status": "ok",
     "timestamp": 1639693885156,
     "user_tz": -60,
     "elapsed": 5422,
     "user": {
      "displayName": "Federico Magnani",
      "photoUrl": "https://lh3.googleusercontent.com/a/default-user=s64",
      "userId": "09090763345999242901"
     }
    },
    "outputId": "39e174eb-8ee2-4f3c-e3b9-ba39157ae134"
   },
   "outputs": [
    {
     "output_type": "stream",
     "name": "stdout",
     "text": [
      "Collecting deepxde\n",
      "  Downloading DeepXDE-0.13.6-py3-none-any.whl (112 kB)\n",
      "\u001b[?25l\r\u001b[K     |███                             | 10 kB 14.2 MB/s eta 0:00:01\r\u001b[K     |█████▉                          | 20 kB 13.7 MB/s eta 0:00:01\r\u001b[K     |████████▊                       | 30 kB 10.1 MB/s eta 0:00:01\r\u001b[K     |███████████▋                    | 40 kB 9.0 MB/s eta 0:00:01\r\u001b[K     |██████████████▌                 | 51 kB 5.8 MB/s eta 0:00:01\r\u001b[K     |█████████████████▍              | 61 kB 5.9 MB/s eta 0:00:01\r\u001b[K     |████████████████████▍           | 71 kB 5.2 MB/s eta 0:00:01\r\u001b[K     |███████████████████████▎        | 81 kB 5.8 MB/s eta 0:00:01\r\u001b[K     |██████████████████████████▏     | 92 kB 5.7 MB/s eta 0:00:01\r\u001b[K     |█████████████████████████████   | 102 kB 5.4 MB/s eta 0:00:01\r\u001b[K     |████████████████████████████████| 112 kB 5.4 MB/s eta 0:00:01\r\u001b[K     |████████████████████████████████| 112 kB 5.4 MB/s \n",
      "\u001b[?25hCollecting scikit-optimize\n",
      "  Downloading scikit_optimize-0.9.0-py2.py3-none-any.whl (100 kB)\n",
      "\u001b[?25l\r\u001b[K     |███▎                            | 10 kB 18.4 MB/s eta 0:00:01\r\u001b[K     |██████▌                         | 20 kB 25.8 MB/s eta 0:00:01\r\u001b[K     |█████████▉                      | 30 kB 31.9 MB/s eta 0:00:01\r\u001b[K     |█████████████                   | 40 kB 29.7 MB/s eta 0:00:01\r\u001b[K     |████████████████▍               | 51 kB 24.1 MB/s eta 0:00:01\r\u001b[K     |███████████████████▋            | 61 kB 26.5 MB/s eta 0:00:01\r\u001b[K     |██████████████████████▉         | 71 kB 23.6 MB/s eta 0:00:01\r\u001b[K     |██████████████████████████▏     | 81 kB 24.9 MB/s eta 0:00:01\r\u001b[K     |█████████████████████████████▍  | 92 kB 24.0 MB/s eta 0:00:01\r\u001b[K     |████████████████████████████████| 100 kB 7.8 MB/s \n",
      "\u001b[?25hRequirement already satisfied: numpy in /usr/local/lib/python3.7/dist-packages (from deepxde) (1.19.5)\n",
      "Requirement already satisfied: scikit-learn in /usr/local/lib/python3.7/dist-packages (from deepxde) (1.0.1)\n",
      "Requirement already satisfied: matplotlib in /usr/local/lib/python3.7/dist-packages (from deepxde) (3.2.2)\n",
      "Requirement already satisfied: scipy in /usr/local/lib/python3.7/dist-packages (from deepxde) (1.4.1)\n",
      "Requirement already satisfied: python-dateutil>=2.1 in /usr/local/lib/python3.7/dist-packages (from matplotlib->deepxde) (2.8.2)\n",
      "Requirement already satisfied: kiwisolver>=1.0.1 in /usr/local/lib/python3.7/dist-packages (from matplotlib->deepxde) (1.3.2)\n",
      "Requirement already satisfied: pyparsing!=2.0.4,!=2.1.2,!=2.1.6,>=2.0.1 in /usr/local/lib/python3.7/dist-packages (from matplotlib->deepxde) (3.0.6)\n",
      "Requirement already satisfied: cycler>=0.10 in /usr/local/lib/python3.7/dist-packages (from matplotlib->deepxde) (0.11.0)\n",
      "Requirement already satisfied: six>=1.5 in /usr/local/lib/python3.7/dist-packages (from python-dateutil>=2.1->matplotlib->deepxde) (1.15.0)\n",
      "Requirement already satisfied: threadpoolctl>=2.0.0 in /usr/local/lib/python3.7/dist-packages (from scikit-learn->deepxde) (3.0.0)\n",
      "Requirement already satisfied: joblib>=0.11 in /usr/local/lib/python3.7/dist-packages (from scikit-learn->deepxde) (1.1.0)\n",
      "Collecting pyaml>=16.9\n",
      "  Downloading pyaml-21.10.1-py2.py3-none-any.whl (24 kB)\n",
      "Requirement already satisfied: PyYAML in /usr/local/lib/python3.7/dist-packages (from pyaml>=16.9->scikit-optimize->deepxde) (3.13)\n",
      "Installing collected packages: pyaml, scikit-optimize, deepxde\n",
      "Successfully installed deepxde-0.13.6 pyaml-21.10.1 scikit-optimize-0.9.0\n"
     ]
    }
   ],
   "source": [
    "!pip install deepxde"
   ]
  },
  {
   "cell_type": "markdown",
   "source": [
    "**Problem setup**  \n",
    "  \n",
    "We are going to solve the non-linear Schrödinger equation given by  \n",
    "$i h_t + \\frac{1}{2} h_{xx} + |h|^2h = 0$  \n",
    "  \n",
    "with periodic boundary conditions as  \n",
    "$x \\in [-5,5], \\quad t \\in [0, \\pi/2]$  \n",
    "$h(t, -5) = h(t,5)$  \n",
    "$h_x(t, -5) = h_x(t,5)$  \n",
    "  \n",
    "and initial condition equal to  \n",
    "$h(0,x) = 2 sech(x)$\n",
    "\n"
   ],
   "metadata": {
    "id": "H9h3CaW8kj1y"
   }
  },
  {
   "cell_type": "markdown",
   "source": [
    "Deepxde only uses real numbers, so we need to explicitly split the real and imaginary parts of the complex PDE.  \n",
    "  \n",
    "In place of the single residual  \n",
    "$f = ih_t + \\frac{1}{2} h_{xx} +|h|^2 h$  \n",
    "  \n",
    "we get the two (real valued) residuals  \n",
    "$f_{\\mathcal{R}} = u_t + \\frac{1}{2} v_{xx} + (u^2 + v^2)v$  \n",
    "$f_{\\mathcal{I}} = v_t - \\frac{1}{2} u_{xx} - (u^2 + v^2)u$  \n",
    "  \n",
    "where u(x,t) and v(x,t) denote respectively the real and the imaginary part of h.  \n"
   ],
   "metadata": {
    "id": "f7Fo1dqAmMt-"
   }
  },
  {
   "cell_type": "code",
   "source": [
    "import numpy as np\n",
    "\n",
    "import deepxde as dde\n",
    "\n",
    "# For plotting\n",
    "import matplotlib.pyplot as plt\n",
    "from scipy.interpolate import griddata"
   ],
   "metadata": {
    "id": "YjOFqj77nl_R",
    "executionInfo": {
     "status": "ok",
     "timestamp": 1639693904753,
     "user_tz": -60,
     "elapsed": 5222,
     "user": {
      "displayName": "Federico Magnani",
      "photoUrl": "https://lh3.googleusercontent.com/a/default-user=s64",
      "userId": "09090763345999242901"
     }
    },
    "colab": {
     "base_uri": "https://localhost:8080/"
    },
    "outputId": "2839c6e0-14ea-4f83-ea48-dc44c8ad0992"
   },
   "execution_count": 2,
   "outputs": [
    {
     "output_type": "stream",
     "name": "stderr",
     "text": [
      "Deepxde backend not selected or invalid. Assuming tensorflow.compat.v1 for now.\n",
      "Using backend: tensorflow.compat.v1\n",
      "\n"
     ]
    },
    {
     "output_type": "stream",
     "name": "stdout",
     "text": [
      "Setting the default backend to \"tensorflow.compat.v1\". You can change it in the ~/.deepxde/config.json file or export the DDEBACKEND environment variable. Valid options are: tensorflow.compat.v1, tensorflow, pytorch (all lowercase)\n",
      "WARNING:tensorflow:From /usr/local/lib/python3.7/dist-packages/tensorflow/python/compat/v2_compat.py:111: disable_resource_variables (from tensorflow.python.ops.variable_scope) is deprecated and will be removed in a future version.\n",
      "Instructions for updating:\n",
      "non-resource variables are not supported in the long term\n",
      "WARNING:tensorflow:From /usr/local/lib/python3.7/dist-packages/deepxde/nn/initializers.py:120: The name tf.keras.initializers.he_normal is deprecated. Please use tf.compat.v1.keras.initializers.he_normal instead.\n",
      "\n"
     ]
    }
   ]
  },
  {
   "cell_type": "code",
   "source": [
    "x_lower = -5\n",
    "x_upper = 5\n",
    "t_lower = 0\n",
    "t_upper = np.pi / 2\n",
    "\n",
    "# Creation of the 2D domain (for plotting and input)\n",
    "x = np.linspace(x_lower, x_upper, 256)\n",
    "t = np.linspace(t_lower, t_upper, 201)\n",
    "X, T = np.meshgrid(x, t)\n",
    "\n",
    "# The whole domain flattened\n",
    "X_star = np.hstack((X.flatten()[:, None], T.flatten()[:, None]))\n",
    "\n",
    "# Space and time domains/geometry (for the deepxde model)\n",
    "space_domain = dde.geometry.Interval(x_lower, x_upper)\n",
    "time_domain = dde.geometry.TimeDomain(t_lower, t_upper)\n",
    "geomtime = dde.geometry.GeometryXTime(space_domain, time_domain)"
   ],
   "metadata": {
    "id": "Oj-6F7RuobUn",
    "executionInfo": {
     "status": "ok",
     "timestamp": 1639693908174,
     "user_tz": -60,
     "elapsed": 262,
     "user": {
      "displayName": "Federico Magnani",
      "photoUrl": "https://lh3.googleusercontent.com/a/default-user=s64",
      "userId": "09090763345999242901"
     }
    }
   },
   "execution_count": 3,
   "outputs": []
  },
  {
   "cell_type": "code",
   "source": [
    "# The \"physics-informed\" part of the loss\n",
    "\n",
    "\n",
    "def pde(x, y):\n",
    "    \"\"\"\n",
    "    INPUTS:\n",
    "        x: x[:,0] is x-coordinate\n",
    "           x[:,1] is t-coordinate\n",
    "        y: Network output, in this case:\n",
    "            y[:,0] is u(x,t) the real part\n",
    "            y[:,1] is v(x,t) the imaginary part\n",
    "    OUTPUT:\n",
    "        The pde in standard form i.e. something that must be zero\n",
    "    \"\"\"\n",
    "\n",
    "    u = y[:, 0:1]\n",
    "    v = y[:, 1:2]\n",
    "\n",
    "    # In 'jacobian', i is the output component and j is the input component\n",
    "    u_t = dde.grad.jacobian(y, x, i=0, j=1)\n",
    "    v_t = dde.grad.jacobian(y, x, i=1, j=1)\n",
    "\n",
    "    u_x = dde.grad.jacobian(y, x, i=0, j=0)\n",
    "    v_x = dde.grad.jacobian(y, x, i=1, j=0)\n",
    "\n",
    "    # In 'hessian', i and j are both input components. (The Hessian could be in principle something like d^2y/dxdt, d^2y/d^2x etc)\n",
    "    # The output component is selected by \"component\"\n",
    "    u_xx = dde.grad.hessian(y, x, component=0, i=0, j=0)\n",
    "    v_xx = dde.grad.hessian(y, x, component=1, i=0, j=0)\n",
    "\n",
    "    f_u = u_t + 0.5 * v_xx + (u ** 2 + v ** 2) * v\n",
    "    f_v = v_t - 0.5 * u_xx - (u ** 2 + v ** 2) * u\n",
    "\n",
    "    return [f_u, f_v]"
   ],
   "metadata": {
    "id": "dbx1YulhoORs",
    "executionInfo": {
     "status": "ok",
     "timestamp": 1639693912989,
     "user_tz": -60,
     "elapsed": 276,
     "user": {
      "displayName": "Federico Magnani",
      "photoUrl": "https://lh3.googleusercontent.com/a/default-user=s64",
      "userId": "09090763345999242901"
     }
    }
   },
   "execution_count": 4,
   "outputs": []
  },
  {
   "cell_type": "code",
   "source": [
    "# Boundary and Initial conditions\n",
    "\n",
    "# Periodic Boundary conditions\n",
    "bc_u_0 = dde.PeriodicBC(\n",
    "    geomtime, 0, lambda _, on_boundary: on_boundary, derivative_order=0\n",
    ")\n",
    "bc_u_1 = dde.PeriodicBC(\n",
    "    geomtime, 0, lambda _, on_boundary: on_boundary, derivative_order=1\n",
    ")\n",
    "bc_v_0 = dde.PeriodicBC(\n",
    "    geomtime, 1, lambda _, on_boundary: on_boundary, derivative_order=0\n",
    ")\n",
    "bc_v_1 = dde.PeriodicBC(\n",
    "    geomtime, 1, lambda _, on_boundary: on_boundary, derivative_order=1\n",
    ")\n",
    "\n",
    "# Initial conditions\n",
    "def init_cond_u(x):\n",
    "    \"2 sech(x)\"\n",
    "    return 2 / np.cosh(x[:, 0:1])\n",
    "\n",
    "\n",
    "def init_cond_v(x):\n",
    "    return 0 * x[:, 0:1]\n",
    "\n",
    "\n",
    "ic_u = dde.IC(geomtime, init_cond_u, lambda _, on_initial: on_initial, component=0)\n",
    "ic_v = dde.IC(geomtime, init_cond_v, lambda _, on_initial: on_initial, component=1)"
   ],
   "metadata": {
    "id": "OisdDqf0oSLx",
    "executionInfo": {
     "status": "ok",
     "timestamp": 1639693919207,
     "user_tz": -60,
     "elapsed": 249,
     "user": {
      "displayName": "Federico Magnani",
      "photoUrl": "https://lh3.googleusercontent.com/a/default-user=s64",
      "userId": "09090763345999242901"
     }
    }
   },
   "execution_count": 5,
   "outputs": []
  },
  {
   "cell_type": "code",
   "source": [
    "data = dde.data.TimePDE(\n",
    "    geomtime,\n",
    "    pde,\n",
    "    [bc_u_0, bc_u_1, bc_v_0, bc_v_1, ic_u, ic_v],\n",
    "    num_domain=10000,\n",
    "    num_boundary=20,\n",
    "    num_initial=200,\n",
    "    train_distribution=\"pseudo\",\n",
    ")\n",
    "\n",
    "# Network architecture\n",
    "net = dde.maps.FNN([2] + [100] * 4 + [2], \"tanh\", \"Glorot normal\")\n",
    "\n",
    "model = dde.Model(data, net)"
   ],
   "metadata": {
    "id": "u-f8sfj2oWgy",
    "executionInfo": {
     "status": "ok",
     "timestamp": 1639693967390,
     "user_tz": -60,
     "elapsed": 258,
     "user": {
      "displayName": "Federico Magnani",
      "photoUrl": "https://lh3.googleusercontent.com/a/default-user=s64",
      "userId": "09090763345999242901"
     }
    }
   },
   "execution_count": 6,
   "outputs": []
  },
  {
   "cell_type": "markdown",
   "source": [
    "Adam optimization.  "
   ],
   "metadata": {
    "id": "Hu5Tyq32DezT"
   }
  },
  {
   "cell_type": "code",
   "source": [
    "# To employ a GPU accelerated system is highly encouraged.\n",
    "\n",
    "model.compile(\"adam\", lr=1e-3, loss=\"MSE\")\n",
    "model.train(epochs=10000, display_every=1000)"
   ],
   "metadata": {
    "colab": {
     "base_uri": "https://localhost:8080/"
    },
    "id": "BR_s0D-_oZYz",
    "executionInfo": {
     "status": "ok",
     "timestamp": 1639694452756,
     "user_tz": -60,
     "elapsed": 250442,
     "user": {
      "displayName": "Federico Magnani",
      "photoUrl": "https://lh3.googleusercontent.com/a/default-user=s64",
      "userId": "09090763345999242901"
     }
    },
    "outputId": "aaa67da0-0568-40df-ccb0-c8c9f58a36b3"
   },
   "execution_count": 8,
   "outputs": [
    {
     "output_type": "stream",
     "name": "stdout",
     "text": [
      "Compiling model...\n",
      "'compile' took 1.148037 s\n",
      "\n",
      "Initializing variables...\n",
      "Training model...\n",
      "\n",
      "Step      Train loss                                                                          Test loss                                                                           Test metric\n",
      "0         [2.41e-01, 2.07e-02, 8.81e-02, 1.92e-04, 8.81e-02, 2.09e-03, 8.97e-01, 3.71e-01]    [2.41e-01, 2.07e-02, 8.81e-02, 1.92e-04, 8.81e-02, 2.09e-03, 8.97e-01, 3.71e-01]    []  \n",
      "1000      [1.31e-02, 1.16e-02, 4.12e-05, 2.02e-04, 4.12e-05, 3.52e-06, 2.14e-02, 2.29e-03]    [1.31e-02, 1.16e-02, 4.12e-05, 2.02e-04, 4.12e-05, 3.52e-06, 2.14e-02, 2.29e-03]    []  \n",
      "2000      [1.22e-02, 7.86e-03, 1.06e-05, 4.13e-05, 1.06e-05, 5.56e-06, 1.52e-02, 9.71e-04]    [1.22e-02, 7.86e-03, 1.06e-05, 4.13e-05, 1.06e-05, 5.56e-06, 1.52e-02, 9.71e-04]    []  \n",
      "3000      [4.18e-03, 1.93e-02, 3.08e-04, 3.80e-05, 3.08e-04, 4.04e-06, 9.16e-03, 8.90e-04]    [4.18e-03, 1.93e-02, 3.08e-04, 3.80e-05, 3.08e-04, 4.04e-06, 9.16e-03, 8.90e-04]    []  \n",
      "4000      [6.34e-03, 2.78e-03, 3.21e-06, 6.49e-06, 3.21e-06, 1.38e-06, 6.06e-03, 1.05e-04]    [6.34e-03, 2.78e-03, 3.21e-06, 6.49e-06, 3.21e-06, 1.38e-06, 6.06e-03, 1.05e-04]    []  \n",
      "5000      [3.22e-03, 2.00e-03, 1.73e-03, 5.84e-06, 1.73e-03, 4.57e-06, 3.49e-03, 5.55e-05]    [3.22e-03, 2.00e-03, 1.73e-03, 5.84e-06, 1.73e-03, 4.57e-06, 3.49e-03, 5.55e-05]    []  \n",
      "6000      [2.83e-03, 6.82e-03, 3.33e-04, 8.57e-06, 3.33e-04, 1.35e-06, 1.70e-03, 4.87e-05]    [2.83e-03, 6.82e-03, 3.33e-04, 8.57e-06, 3.33e-04, 1.35e-06, 1.70e-03, 4.87e-05]    []  \n",
      "7000      [1.37e-03, 1.31e-03, 4.82e-08, 3.66e-06, 4.82e-08, 3.81e-07, 1.34e-03, 2.62e-05]    [1.37e-03, 1.31e-03, 4.82e-08, 3.66e-06, 4.82e-08, 3.81e-07, 1.34e-03, 2.62e-05]    []  \n",
      "8000      [1.44e-03, 1.33e-03, 2.02e-04, 2.37e-06, 2.02e-04, 1.26e-06, 8.78e-04, 5.05e-05]    [1.44e-03, 1.33e-03, 2.02e-04, 2.37e-06, 2.02e-04, 1.26e-06, 8.78e-04, 5.05e-05]    []  \n",
      "9000      [5.82e-04, 7.27e-04, 3.53e-05, 1.54e-06, 3.53e-05, 3.03e-07, 5.93e-04, 1.10e-05]    [5.82e-04, 7.27e-04, 3.53e-05, 1.54e-06, 3.53e-05, 3.03e-07, 5.93e-04, 1.10e-05]    []  \n",
      "10000     [5.54e-04, 6.95e-04, 3.00e-06, 7.68e-07, 3.00e-06, 2.81e-07, 4.28e-04, 1.16e-05]    [5.54e-04, 6.95e-04, 3.00e-06, 7.68e-07, 3.00e-06, 2.81e-07, 4.28e-04, 1.16e-05]    []  \n",
      "\n",
      "Best model at step 10000:\n",
      "  train loss: 1.70e-03\n",
      "  test loss: 1.70e-03\n",
      "  test metric: []\n",
      "\n",
      "'train' took 436.855947 s\n",
      "\n"
     ]
    },
    {
     "output_type": "execute_result",
     "data": {
      "text/plain": [
       "(<deepxde.model.LossHistory at 0x7f0bd7a09c90>,\n",
       " <deepxde.model.TrainState at 0x7f0bdad972d0>)"
      ]
     },
     "metadata": {},
     "execution_count": 8
    }
   ]
  },
  {
   "cell_type": "markdown",
   "source": [
    "L-BFGS-B optimization."
   ],
   "metadata": {
    "id": "xbAdby9zDosK"
   }
  },
  {
   "cell_type": "code",
   "source": [
    "dde.optimizers.config.set_LBFGS_options(\n",
    "    maxcor=50,\n",
    "    ftol=1.0 * np.finfo(float).eps,\n",
    "    gtol=1e-08,\n",
    "    maxiter=10000,\n",
    "    maxfun=10000,\n",
    "    maxls=50,\n",
    ")\n",
    "model.compile(\"L-BFGS-B\", \"MSE\")\n",
    "model.train()"
   ],
   "metadata": {
    "colab": {
     "base_uri": "https://localhost:8080/"
    },
    "id": "SVSKBTp6qRX8",
    "executionInfo": {
     "status": "ok",
     "timestamp": 1639694935726,
     "user_tz": -60,
     "elapsed": 470391,
     "user": {
      "displayName": "Federico Magnani",
      "photoUrl": "https://lh3.googleusercontent.com/a/default-user=s64",
      "userId": "09090763345999242901"
     }
    },
    "outputId": "0f928c3d-e7b4-4bd3-8687-2fa7af82ad98"
   },
   "execution_count": 9,
   "outputs": [
    {
     "output_type": "stream",
     "name": "stdout",
     "text": [
      "Compiling model...\n",
      "Warning: learning rate is ignored for L-BFGS-B\n",
      "'compile' took 0.823250 s\n",
      "\n",
      "Training model...\n",
      "\n",
      "Step      Train loss                                                                          Test loss                                                                           Test metric\n",
      "10000     [5.54e-04, 6.95e-04, 3.00e-06, 7.68e-07, 3.00e-06, 2.81e-07, 4.28e-04, 1.16e-05]    [5.54e-04, 6.95e-04, 3.00e-06, 7.68e-07, 3.00e-06, 2.81e-07, 4.28e-04, 1.16e-05]    []  \n",
      "11000     [2.51e-05, 2.41e-05, 2.58e-08, 1.86e-06, 2.58e-08, 5.16e-07, 7.59e-06, 1.30e-06]                                                                                            \n",
      "12000     [7.23e-06, 6.21e-06, 2.59e-09, 1.11e-07, 2.59e-09, 8.25e-08, 5.73e-06, 2.95e-07]                                                                                            \n",
      "13000     [3.15e-06, 2.59e-06, 8.85e-10, 1.20e-07, 8.85e-10, 6.22e-08, 4.20e-06, 9.26e-08]                                                                                            \n",
      "14000     [2.04e-06, 1.29e-06, 2.49e-10, 1.41e-07, 2.49e-10, 1.57e-08, 3.50e-06, 2.13e-07]                                                                                            \n",
      "15000     [1.52e-06, 9.49e-07, 5.16e-10, 1.01e-07, 5.16e-10, 4.61e-08, 2.85e-06, 1.78e-07]                                                                                            \n",
      "16000     [1.19e-06, 7.18e-07, 2.48e-10, 1.00e-07, 2.48e-10, 5.00e-08, 2.40e-06, 1.47e-07]                                                                                            \n",
      "INFO:tensorflow:Optimization terminated with:\n",
      "  Message: b'CONVERGENCE: REL_REDUCTION_OF_F_<=_FACTR*EPSMCH'\n",
      "  Objective function value: 0.000004\n",
      "  Number of iterations: 6445\n",
      "  Number of functions evaluations: 6854\n",
      "16854     [9.37e-07, 7.29e-07, 2.61e-10, 1.10e-07, 2.61e-10, 4.55e-08, 2.04e-06, 1.12e-07]    [9.37e-07, 7.29e-07, 2.61e-10, 1.10e-07, 2.61e-10, 4.55e-08, 2.04e-06, 1.12e-07]    []  \n",
      "\n",
      "Best model at step 16854:\n",
      "  train loss: 3.98e-06\n",
      "  test loss: 3.98e-06\n",
      "  test metric: []\n",
      "\n",
      "'train' took 468.904774 s\n",
      "\n"
     ]
    },
    {
     "output_type": "execute_result",
     "data": {
      "text/plain": [
       "(<deepxde.model.LossHistory at 0x7f0bd7a09c90>,\n",
       " <deepxde.model.TrainState at 0x7f0bdad972d0>)"
      ]
     },
     "metadata": {},
     "execution_count": 9
    }
   ]
  },
  {
   "cell_type": "markdown",
   "source": [
    "Final results.  \n",
    "The reference solution and further information can be found in [this paper](https://arxiv.org/abs/1711.10561) from Raissi, Karniadakis, Perdikaris.  \n",
    "The test data can be got [here](https://github.com/maziarraissi/PINNs/blob/master/main/Data/NLS.mat)."
   ],
   "metadata": {
    "id": "u9EXdIk0FjYj"
   }
  },
  {
   "cell_type": "code",
   "source": [
    "# Make prediction\n",
    "prediction = model.predict(X_star, operator=None)\n",
    "\n",
    "u = griddata(X_star, prediction[:, 0], (X, T), method=\"cubic\")\n",
    "v = griddata(X_star, prediction[:, 1], (X, T), method=\"cubic\")\n",
    "\n",
    "h = np.sqrt(u ** 2 + v ** 2)\n",
    "\n",
    "\n",
    "# Plot predictions\n",
    "fig, ax = plt.subplots(3)\n",
    "\n",
    "ax[0].set_title(\"Real part\")\n",
    "ax[0].imshow(\n",
    "    u.T,\n",
    "    interpolation=\"nearest\",\n",
    "    cmap=\"viridis\",\n",
    "    extent=[t_lower, t_upper, x_lower, x_upper],\n",
    "    origin=\"lower\",\n",
    "    aspect=\"auto\",\n",
    ")\n",
    "ax[1].set_title(\"Imaginary part\")\n",
    "ax[1].imshow(\n",
    "    v.T,\n",
    "    interpolation=\"nearest\",\n",
    "    cmap=\"viridis\",\n",
    "    extent=[t_lower, t_upper, x_lower, x_upper],\n",
    "    origin=\"lower\",\n",
    "    aspect=\"auto\",\n",
    ")\n",
    "ax[2].set_title(\"Amplitude\")\n",
    "ax[2].imshow(\n",
    "    h.T,\n",
    "    interpolation=\"nearest\",\n",
    "    cmap=\"viridis\",\n",
    "    extent=[t_lower, t_upper, x_lower, x_upper],\n",
    "    origin=\"lower\",\n",
    "    aspect=\"auto\",\n",
    ")\n",
    "\n",
    "plt.show()"
   ],
   "metadata": {
    "colab": {
     "base_uri": "https://localhost:8080/",
     "height": 210
    },
    "executionInfo": {
     "status": "ok",
     "timestamp": 1639694949246,
     "user_tz": -60,
     "elapsed": 5168,
     "user": {
      "displayName": "Federico Magnani",
      "photoUrl": "https://lh3.googleusercontent.com/a/default-user=s64",
      "userId": "09090763345999242901"
     }
    },
    "outputId": "70f2b4d1-8a28-435c-ef5b-d6316ecda791",
    "id": "aYl4TD96FrLV"
   },
   "execution_count": 10,
   "outputs": [
    {
     "output_type": "display_data",
     "data": {
      "image/png": "[encoded data removed]",
      "text/plain": [
       "<Figure size 432x288 with 3 Axes>"
      ]
     },
     "metadata": {
      "needs_background": "light"
     }
    }
   ]
  }
 ]
}