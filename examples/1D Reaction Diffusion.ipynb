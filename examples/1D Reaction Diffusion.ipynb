{
 "cells": [
  {
   "cell_type": "code",
   "execution_count": null,
   "metadata": {},
   "outputs": [],
   "source": [
    "#This file uses Mathematica string data as training and uses deepxde for machine learning.\n",
    "\n",
    "from __future__ import absolute_import\n",
    "from __future__ import division\n",
    "from __future__ import print_function\n",
    "\n",
    "import numpy as np\n",
    "import tensorflow as tf\n",
    "import deepxde as dde\n",
    "\n",
    "# For reading Excel Files\n",
    "import xlrd\n",
    "import itertools"
   ]
  },
  {
   "cell_type": "markdown",
   "metadata": {},
   "source": [
    "Read and format Mathematica training data"
   ]
  },
  {
   "cell_type": "code",
   "execution_count": null,
   "metadata": {},
   "outputs": [],
   "source": [
    "# Load in the workbook\n",
    "wb = xlrd.open_workbook(file1)"
   ]
  },
  {
   "cell_type": "code",
   "execution_count": null,
   "metadata": {},
   "outputs": [],
   "source": [
    "#Initialize variables, make sure these match order writtein in Mathematica\n",
    "t=[]\n",
    "x=[]\n",
    "u=[]\n",
    "dataRaw3 = []"
   ]
  },
  {
   "cell_type": "code",
   "execution_count": null,
   "metadata": {},
   "outputs": [],
   "source": [
    "#Extract data from each sheet and rearrage Excel strings to Python List\n",
    "for i in range( len(wb.sheet_names())):\n",
    "    sheet = wb.sheet_by_index(i)\n",
    "\n",
    "    #Need to subtract one to get rid of first row and first column\n",
    "    rowNum= sheet.nrows\n",
    "    colNum = sheet.ncols\n",
    "\n",
    "    dataRaw = [[sheet.cell_value(r, c) for c in range(colNum)] for r in range(rowNum)]\n",
    "    dataRaw.extend(dataRaw)\n",
    "    dataRaw2 = list(itertools.chain.from_iterable(dataRaw))\n",
    "    dataRaw3.append(dataRaw2)\n",
    "\n",
    "\n",
    "data = list(itertools.chain.from_iterable(dataRaw3))"
   ]
  },
  {
   "cell_type": "code",
   "execution_count": null,
   "metadata": {},
   "outputs": [],
   "source": [
    "#Build array for each variable\n",
    "for j in range(len(data)):\n",
    "    s = data[j]\n",
    "\n",
    "\t#Convert String to float\n",
    "    data[j] = float(s)\n",
    "\n",
    "    #BE CAREFUL!  Change this to match order written in Mathematica\n",
    "    if j % 3 == 0:\n",
    "        t.append(data[j])\n",
    "    if j % 3 == 1:\n",
    "        x.append(data[j])\n",
    "    if j % 3 == 2:\n",
    "        u.append(data[j])"
   ]
  },
  {
   "cell_type": "code",
   "execution_count": null,
   "metadata": {},
   "outputs": [],
   "source": [
    "#Formatting issues, turn list to column array\n",
    "\n",
    "T = np.array(t)\n",
    "T = T[:, None]\n",
    "\n",
    "X = np.array(x)\n",
    "X = X[:, None]\n",
    "\n",
    "U = np.array(u)\n",
    "U = U[:, None]\n",
    "\n",
    "\n",
    "X = np.reshape(X, (-1, 1))\n",
    "T = np.reshape(T, (-1, 1))\n",
    "\n",
    "observe_x = np.hstack((X, T))"
   ]
  },
  {
   "cell_type": "markdown",
   "metadata": {},
   "source": [
    "Deepxde"
   ]
  },
  {
   "cell_type": "code",
   "execution_count": null,
   "metadata": {},
   "outputs": [],
   "source": [
    "def main():\n",
    "    #Initialize Parameters\n",
    "    D = tf.Variable(1.0)\n",
    "    rho = tf.Variable(1.0)\n",
    "\n",
    "\t\n",
    "\t#Define diff eq with tensorflow\n",
    "    def pde(x, y):\n",
    "        y = y[:, 0:1]\n",
    "        dy_x = tf.gradients(y, x)[0]\n",
    "        dy_x, dy_t = dy_x[:, 0:1], dy_x[:, 1:]\n",
    "        dy_xx = tf.gradients(dy_x, x)[0][:, 0:1]\n",
    "        return (\n",
    "            dy_t\n",
    "            - D * dy_xx\n",
    "            - rho * y\n",
    "        )\n",
    "\t\t\n",
    "\t#Initial Condition, x(t, x) = x(0,x)\n",
    "    def fun_init(x):\n",
    "        return 1/(2*np.pi )*np.exp(-.5 * (x[:, 0:1] - 1)**2)\n",
    "\n",
    "\t#Boudary Condition not defined in this case\n",
    "    #def fun_bc(x):\n",
    "        #return 1 - x[:, 0:1]\n",
    "\n",
    "\t#Define geometry of region and time \n",
    "    geom = dde.geometry.Interval(0, 10)\n",
    "    timedomain = dde.geometry.TimeDomain(0, 10)\n",
    "    geomtime = dde.geometry.GeometryXTime(geom, timedomain)\n",
    "\n",
    "    # Initial condition for deepxde\n",
    "    ic1 = dde.IC(geomtime, fun_init, lambda _, on_initial: on_initial, component=0)\n",
    "\n",
    "    # Define training data for deepxde\n",
    "    ptset = dde.bc.PointSet(observe_x)\n",
    "    inside = lambda x, _: ptset.inside(x)\n",
    "    observe_y1 = dde.DirichletBC(\n",
    "        geomtime, ptset.values_to_func(U), lambda x, _: ptset.inside(x), component=0\n",
    "    )\n",
    "\n",
    "\t# Input for deepxde \n",
    "    data = dde.data.TimePDE(\n",
    "        geomtime, #geometry and time domain\n",
    "        2, #number of inputs?\n",
    "        pde, # define PDE\n",
    "        [ic1, observe_y1], #input boudndary conditions, initial conditions, and trainindg data\n",
    "        num_domain=2000,\n",
    "        num_boundary=100,\n",
    "        num_initial=100,\n",
    "        anchors=observe_x,  \n",
    "        num_test=50000,\n",
    "    )\n",
    "\n",
    "\t#define size of neural network, and activation function\n",
    "    net = dde.maps.FNN([2] + [20] * 3 + [2], \"tanh\", \"Glorot uniform\")\n",
    "\t\n",
    "\t#Initiate neural network\n",
    "    model = dde.Model(data, net)\n",
    "\t\n",
    "\t\n",
    "\t#Run neural network\n",
    "    model.compile(\"adam\", lr=0.001)\n",
    "\t\n",
    "\t#Extract constants rho and D\n",
    "    variable = dde.callbacks.VariableValue(\n",
    "        [D, rho], period=600, filename=\"variables.dat\"\n",
    "    )\n",
    "\n",
    "\t#Train neural network\n",
    "    losshistory, train_state = model.train(epochs=100000, callbacks=[variable])\n",
    "\t\n",
    "\t#Display plots after calculation\n",
    "    dde.saveplot(losshistory, train_state, issave=True, isplot=True)\n",
    "\n",
    "\n",
    "\n",
    "if __name__ == \"__main__\":\n",
    "    main()"
   ]
  }
 ],
 "metadata": {
  "kernelspec": {
   "display_name": "Python 3",
   "language": "python",
   "name": "python3"
  },
  "language_info": {
   "codemirror_mode": {
    "name": "ipython",
    "version": 3
   },
   "file_extension": ".py",
   "mimetype": "text/x-python",
   "name": "python",
   "nbconvert_exporter": "python",
   "pygments_lexer": "ipython3",
   "version": "3.7.1"
  }
 },
 "nbformat": 4,
 "nbformat_minor": 2
}
